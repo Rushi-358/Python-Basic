{
  "nbformat": 4,
  "nbformat_minor": 0,
  "metadata": {
    "colab": {
      "provenance": []
    },
    "kernelspec": {
      "name": "python3",
      "display_name": "Python 3"
    },
    "language_info": {
      "name": "python"
    }
  },
  "cells": [
    {
      "cell_type": "markdown",
      "source": [
        "## Python Basic\n"
      ],
      "metadata": {
        "id": "l9AMQ9PiyR8w"
      }
    },
    {
      "cell_type": "markdown",
      "source": [
        "1. What is Python, and why is it popular?\n",
        "   - Pyhton is a high level, interpreted programming languages, and it is popular because it is easy to learn in simple, and it is used for web development, data science, and AI Automation.\n",
        "\n",
        "2. What is an interpreter in Python\n",
        "   - An Interpreter is a program that reads a python code line by line and runs immediately.\n",
        "\n",
        "3. What are pre-defined keywords in Python\n",
        "   - False    await    else     import    pass\n",
        "      None     break    except   in        raise\n",
        "    True     class    finally  is        return\n",
        "    and      continue for      lambda    try\n",
        "    as       def      from     nonlocal  while\n",
        "    assert   del      global   not       with\n",
        "    async    elif     if       or        yield.\n",
        "\n",
        "4. Can keywords be used as variable names?\n",
        "   - No.\n",
        "\n",
        "5. What is mutability in Python?\n",
        "   - Mutability means an object value or content can be changed after it has been created.\n",
        "\n",
        "6. Why are lists mutable, but tuples are immutable?\n",
        "   - Because lists are meant for dynamic collection that need to be changed, while the tuple are meant for static collection that should remain constant.\n",
        "\n",
        "7. What is the difference between “==” and “is” operators in Python?\n",
        "   - \"==\" checks for Value Equality, \"is\" checks for Identity Equality.\n",
        "\n",
        "8. What are logical operators in Python?\n",
        "   - \"and\", \"or\" & \"not\".\n",
        "\n",
        "9. What is type casting in Python?\n",
        "   - Type casting means converting one data type to another.There are two types casting.1) Implicit Type Casting 2) Explicit Type Casting.\n",
        "\n",
        "10. What is the difference between implicit and explicit type casting?\n",
        "   - Implicit type casting is done automatically by the compiler or interpreter.\n",
        "   and Explicit Casting is done manually by the programmer.\n",
        "\n",
        "11. What is the purpose of conditional statements in Python?\n",
        "   - In pyhton is to enable decision making code, they allow the program to execute different block of code based on whether certain condtions are met (true or false).\n",
        "\n",
        "12. How does the elif statement work?\n",
        "    - If the if condition is false, the program moves on to the first elif statement and checks its condition.\n",
        "\n",
        "13. What is the difference between for and while loops?\n",
        "   - A \"for loops\" is used when you know how many times you wan't to iterate.\n",
        "   A \"while loops\" is used when you want to repeat something until a certain condition change.\n",
        "\n",
        "14. Describe a scenario where a while loop is more suitable than a for loop?\n",
        "   - when you don't know in advance how many times the loop needs to run."
      ],
      "metadata": {
        "id": "740ss0PantoG"
      }
    },
    {
      "cell_type": "code",
      "source": [
        "# 1) Write a Python program to print \"Hello, World!\"\n",
        "\n",
        "\"Hello, World!\"\n",
        "print(\"Hello, World!\")"
      ],
      "metadata": {
        "colab": {
          "base_uri": "https://localhost:8080/"
        },
        "id": "6iC2FtkwQFgD",
        "outputId": "ab150b6e-4d01-4719-b35f-cb602e3152ce"
      },
      "execution_count": 1,
      "outputs": [
        {
          "output_type": "stream",
          "name": "stdout",
          "text": [
            "Hello, World!\n"
          ]
        }
      ]
    },
    {
      "cell_type": "code",
      "source": [
        "# 2) Write a Python program that displays your name and age8\n",
        "\n",
        "name = \"Koustubh\"\n",
        "age = 27\n",
        "print(name, age)"
      ],
      "metadata": {
        "colab": {
          "base_uri": "https://localhost:8080/"
        },
        "id": "_Jeu4xLcQY1m",
        "outputId": "9f6d7b7f-ab63-488e-f4f1-1ab15da37a1a"
      },
      "execution_count": 2,
      "outputs": [
        {
          "output_type": "stream",
          "name": "stdout",
          "text": [
            "Koustubh 27\n"
          ]
        }
      ]
    },
    {
      "cell_type": "code",
      "source": [
        "# 3) Write code to print all the pre-defined keywords in Python using the keyword library.\n",
        "\n",
        "import keyword\n",
        "print(\"List of all Python keywords:\")\n",
        "\n",
        "for kw in keyword.kwlist:\n",
        "   print(kw, end=\", \")\n"
      ],
      "metadata": {
        "colab": {
          "base_uri": "https://localhost:8080/"
        },
        "id": "79UKsCj-QkVf",
        "outputId": "d5d3c3b3-58dc-4c7c-ff43-3f4ddaf2b6eb"
      },
      "execution_count": 4,
      "outputs": [
        {
          "output_type": "stream",
          "name": "stdout",
          "text": [
            "List of all Python keywords:\n",
            "False, None, True, and, as, assert, async, await, break, class, continue, def, del, elif, else, except, finally, for, from, global, if, import, in, is, lambda, nonlocal, not, or, pass, raise, return, try, while, with, yield, "
          ]
        }
      ]
    },
    {
      "cell_type": "code",
      "source": [
        "# 4) Write a program that checks if a given word is a Python keyword.\n",
        "\n"
      ],
      "metadata": {
        "id": "fPgwMgdQuS3j"
      },
      "execution_count": null,
      "outputs": []
    },
    {
      "cell_type": "code",
      "source": [
        "# 5) Create a list and tuple in Python, and demonstrate how attempting to change an element works differently\n",
        "# for each.\n",
        "\n",
        "# creating a list\n",
        "my_list = [10,20,30]\n",
        "print(f\"Original list: {my_list}\")\n",
        "\n",
        "# change an element in list\n",
        "my_list[0] = 15\n",
        "print(f\"Modified list: {my_list}\")\n",
        "\n",
        "# creating a tupple\n",
        "my_tupple = (10,20,30)\n",
        "print(f\"Original tupple: {my_tupple}\")\n",
        "\n",
        "# change an element in tupple\n",
        "my_tupple[0] = 15\n",
        "\n"
      ],
      "metadata": {
        "colab": {
          "base_uri": "https://localhost:8080/",
          "height": 245
        },
        "id": "mc5QOmwuvZjb",
        "outputId": "fc42caff-2563-49b4-b706-3963c015418a"
      },
      "execution_count": 4,
      "outputs": [
        {
          "output_type": "stream",
          "name": "stdout",
          "text": [
            "Original list: [10, 20, 30]\n",
            "Modified list: [15, 20, 30]\n",
            "Original tupple: (10, 20, 30)\n"
          ]
        },
        {
          "output_type": "error",
          "ename": "TypeError",
          "evalue": "'tuple' object does not support item assignment",
          "traceback": [
            "\u001b[0;31m---------------------------------------------------------------------------\u001b[0m",
            "\u001b[0;31mTypeError\u001b[0m                                 Traceback (most recent call last)",
            "\u001b[0;32m/tmp/ipython-input-1509796584.py\u001b[0m in \u001b[0;36m<cell line: 0>\u001b[0;34m()\u001b[0m\n\u001b[1;32m     15\u001b[0m \u001b[0;34m\u001b[0m\u001b[0m\n\u001b[1;32m     16\u001b[0m \u001b[0;31m# change an element in tupple\u001b[0m\u001b[0;34m\u001b[0m\u001b[0;34m\u001b[0m\u001b[0m\n\u001b[0;32m---> 17\u001b[0;31m \u001b[0mmy_tupple\u001b[0m\u001b[0;34m[\u001b[0m\u001b[0;36m0\u001b[0m\u001b[0;34m]\u001b[0m \u001b[0;34m=\u001b[0m \u001b[0;36m15\u001b[0m\u001b[0;34m\u001b[0m\u001b[0;34m\u001b[0m\u001b[0m\n\u001b[0m\u001b[1;32m     18\u001b[0m \u001b[0;34m\u001b[0m\u001b[0m\n",
            "\u001b[0;31mTypeError\u001b[0m: 'tuple' object does not support item assignment"
          ]
        }
      ]
    },
    {
      "cell_type": "code",
      "source": [
        "# 6) Write a function to demonstrate the behavior of mutable and immutable arguments.\n",
        "\n",
        "# mutable arguments(list)\n",
        "\n",
        "my_list.append(100)\n",
        "print(\"my_list =\", my_list)\n",
        "\n"
      ],
      "metadata": {
        "id": "7THyVlaGG-nI"
      },
      "execution_count": null,
      "outputs": []
    },
    {
      "cell_type": "code",
      "source": [
        "# 7) Write a program that performs basic arithmetic operations on two user-input numbers.\n",
        "\n",
        "num1 = float(input(\"Enter first number: \"))\n",
        "num2 = float(input(\"Enter second number: \"))\n",
        "\n",
        "print(\"Addition:\", num1 + num2)\n",
        "print(\"Subtraction:\", num1 - num2)\n",
        "print(\"Multiplication:\", num1 * num2)\n",
        "print(\"Division:\", num1 / num2)\n",
        "print(\"Modulus:\", num1 % num2)\n",
        "print(\"Floor Division:\", num1 // num2)"
      ],
      "metadata": {
        "colab": {
          "base_uri": "https://localhost:8080/"
        },
        "id": "tKE6k1by2sWn",
        "outputId": "1f3b25ed-bb6f-4139-e2a9-6437074ea995"
      },
      "execution_count": 1,
      "outputs": [
        {
          "output_type": "stream",
          "name": "stdout",
          "text": [
            "Enter first number: 10\n",
            "Enter second number: 5\n",
            "\n",
            "Results:\n",
            "Addition: 15.0\n",
            "Subtraction: 5.0\n",
            "Multiplication: 50.0\n",
            "Division: 2.0\n",
            "Modulus: 0.0\n",
            "Floor Division: 2.0\n",
            "Exponentiation: 100000.0\n"
          ]
        }
      ]
    },
    {
      "cell_type": "code",
      "source": [
        "# 8) Write a program to demonstrate the use of logical operators.\n",
        "\n",
        "a = 5\n",
        "print(a>10 and a<5)\n",
        "\n",
        "print(a<10 and a>3)\n",
        "\n",
        "print(not(5<3))"
      ],
      "metadata": {
        "colab": {
          "base_uri": "https://localhost:8080/"
        },
        "id": "FaSU98LIxWMf",
        "outputId": "3a56ce64-0488-4911-f16d-8b3898092996"
      },
      "execution_count": 19,
      "outputs": [
        {
          "output_type": "stream",
          "name": "stdout",
          "text": [
            "False\n",
            "True\n",
            "True\n"
          ]
        }
      ]
    },
    {
      "cell_type": "code",
      "source": [
        "# 9)  Write a Python program to convert user input from string to integer, float, and boolean types.\n",
        "\n",
        "a = \"Koustubh\"\n",
        "b = 27\n",
        "c = 27.5\n",
        "d = True\n",
        "\n",
        "print(type(a))\n",
        "print(type(b))\n",
        "print(type(c))\n",
        "print(type(d))\n",
        "\n"
      ],
      "metadata": {
        "colab": {
          "base_uri": "https://localhost:8080/"
        },
        "id": "wmybB2lHQVo0",
        "outputId": "431bd84b-3ab1-4e2d-fdf2-711182f1b723"
      },
      "execution_count": 25,
      "outputs": [
        {
          "output_type": "stream",
          "name": "stdout",
          "text": [
            "<class 'str'>\n",
            "<class 'int'>\n",
            "<class 'float'>\n",
            "<class 'bool'>\n"
          ]
        }
      ]
    },
    {
      "cell_type": "code",
      "source": [
        "# 10) Write a Python program to convert user input from string to integer, float, and boolean types\n",
        "\n",
        "user_input_str = input(\"Enter a value:\")\n",
        "\n",
        "# convert to integer\n",
        "try:\n",
        "    int_value = int(user_input_str)\n",
        "    print(f\"Converted to integer: {int_value} (type: {type(int_value)})\")\n",
        "except ValueError:\n",
        "    print(f\"Could not convert '{user_input_str}' to integer.\")\n",
        "\n",
        "# convert to float\n",
        "try:\n",
        "    float_value = float(user_input_str)\n",
        "    print(f\"Converted into float: {float_value} (type: {type(float_value)})\")\n",
        "except ValueError:\n",
        "    print(f\"Could not convert '{user_input_str}' to float.\")\n",
        "\n",
        "# convert into Boolean\n",
        "if user_input_str.lower() == 'TRUE':\n",
        "    bool_value_explicit = True\n",
        "    print(f\"Converted to boolean ('True string'): {bool_value_explicit} \")\n",
        "elif user_input_str.lower() == \"FALSE\":\n",
        "    bool_value_explicit = False\n",
        "    print(f\"Converted to boolean('false' string): {bool_value_explicit}\")\n",
        "else:\n",
        "    print(f\"'{user_input_str}' is not explicitly 'True' or 'False' as a string for boolean conversion.\")"
      ],
      "metadata": {
        "colab": {
          "base_uri": "https://localhost:8080/"
        },
        "id": "LfbM_7lYm_HS",
        "outputId": "9d401368-3f3c-492b-a66a-6a2710bd3aad"
      },
      "execution_count": 27,
      "outputs": [
        {
          "output_type": "stream",
          "name": "stdout",
          "text": [
            "Enter a value:10\n",
            "Converted to integer: 10 (type: <class 'int'>)\n",
            "Converted into float: 10.0 (type: <class 'float'>)\n",
            "'10' is not explicitly 'True' or 'False' as a string for boolean conversion.\n"
          ]
        }
      ]
    },
    {
      "cell_type": "code",
      "source": [
        "# 11) Write code to demonstrate type casting with list elements.\n",
        "\n",
        "my_list = [\"1\", 2, \"3.5\", True, 4.0]\n",
        "print(f\"Original list: {my_list}\")\n",
        "print(f\"Original list element types:{[type(item) for item in my_list]}\")\n",
        "\n",
        "# convert elements to string\n",
        "str_list = [str(item) for item in my_list]\n",
        "print(f\"list after casting to string: {str_list}\")\n",
        "\n",
        "# convert elements to float\n",
        "float_list = [float(item) for item in my_list]\n",
        "print(f\"list after casting to float: {float_list}\")\n",
        "\n",
        "# convert elements to integer (first cast to float if needed)\n",
        "int_list = [int(float(item)) for item in my_list]\n",
        "print(f\"list after casting int: {int_list}\")\n",
        "\n",
        "# convert elements to boolean\n",
        "bool_list = [bool(item) for item in my_list]\n",
        "print(f\"List after casting bool: {bool_list}\")"
      ],
      "metadata": {
        "colab": {
          "base_uri": "https://localhost:8080/"
        },
        "id": "O1Eg61wDnI3W",
        "outputId": "6dcccecb-9234-4662-bafc-b859f10cca1d"
      },
      "execution_count": 31,
      "outputs": [
        {
          "output_type": "stream",
          "name": "stdout",
          "text": [
            "Original list: ['1', 2, '3.5', True, 4.0]\n",
            "Original list element types:[<class 'str'>, <class 'int'>, <class 'str'>, <class 'bool'>, <class 'float'>]\n",
            "list after casting to string: ['1', '2', '3.5', 'True', '4.0']\n",
            "list after casting to float: [1.0, 2.0, 3.5, 1.0, 4.0]\n",
            "list after casting int: [1, 2, 3, 1, 4]\n",
            "List after casting bool: [True, True, True, True, True]\n"
          ]
        }
      ]
    },
    {
      "cell_type": "code",
      "source": [
        "# 12) Write a for loop to print numbers from 1 to 10.\n",
        "\n",
        "for i in range(1, 11):\n",
        "    print(i, end=\" \")"
      ],
      "metadata": {
        "colab": {
          "base_uri": "https://localhost:8080/"
        },
        "id": "icM8j9x2w-na",
        "outputId": "400471f9-afa7-4969-d3d8-6f4cd3379f31"
      },
      "execution_count": 37,
      "outputs": [
        {
          "output_type": "stream",
          "name": "stdout",
          "text": [
            "1 2 3 4 5 6 7 8 9 10 "
          ]
        }
      ]
    },
    {
      "cell_type": "code",
      "source": [
        "# 13) Write a Python program to find the sum of all even numbers between 1 and 50.\n",
        "\n",
        "sum_of_even_numbers = 0\n",
        "\n",
        "# Iterate through numbers from 1 to 50\n",
        "for number in range(1, 51):\n",
        "    # Check if the number is even\n",
        "    if number % 2 == 0:\n",
        "        sum_of_even_numbers += number\n",
        "\n",
        "print(f\"The sum of all even numbers between 1 and 50 is: {sum_of_even_numbers}\")"
      ],
      "metadata": {
        "colab": {
          "base_uri": "https://localhost:8080/"
        },
        "id": "I8E-N8VzxeV3",
        "outputId": "9daa2c84-4829-4797-b531-b96a1bba6c57"
      },
      "execution_count": 38,
      "outputs": [
        {
          "output_type": "stream",
          "name": "stdout",
          "text": [
            "The sum of all even numbers between 1 and 50 is: 650\n"
          ]
        }
      ]
    },
    {
      "cell_type": "code",
      "source": [
        "# 14) Write a program to reverse a string using a while loop.\n",
        "\n",
        "input_string = input(\"Enter a string: \")\n",
        "reversed_string = \"\"\n",
        "index = len(input_string) - 1\n",
        "\n",
        "while index >= 0:\n",
        "  reversed_string += input_string[index]\n",
        "  index -= 1\n",
        "\n",
        "print(f\"The reversed string is: {reversed_string}\")"
      ],
      "metadata": {
        "colab": {
          "base_uri": "https://localhost:8080/"
        },
        "id": "miOcN0vaxyf3",
        "outputId": "7713bba2-020f-40c9-f67f-076d678cf8e3"
      },
      "execution_count": 40,
      "outputs": [
        {
          "output_type": "stream",
          "name": "stdout",
          "text": [
            "Enter a string: koustubh\n",
            "The reversed string is: hbutsuok\n"
          ]
        }
      ]
    },
    {
      "cell_type": "code",
      "source": [
        "# 15) Write a Python program to calculate the factorial of a number provided by the user using a while loop\n",
        "\n",
        "num = int(input(\"Enter a non-negative integer: \"))\n",
        "\n",
        "if num < 0:\n",
        "    print(\"Factorial is not defined for negative numbers\")\n",
        "elif num == 0:\n",
        "    print(\"The factorial of 0 is 1\")\n",
        "else:\n",
        "    factorial = 1\n",
        "    i = 1\n",
        "    while i <= num:\n",
        "        factorial *= i\n",
        "        i += 1\n",
        "    print(f\"The factorial of {num} is {factorial}\")"
      ],
      "metadata": {
        "colab": {
          "base_uri": "https://localhost:8080/"
        },
        "id": "wdHLjHjLyBTO",
        "outputId": "e9941ad1-7532-4e33-8ac6-551e58101fd6"
      },
      "execution_count": 41,
      "outputs": [
        {
          "output_type": "stream",
          "name": "stdout",
          "text": [
            "Enter a non-negative integer: 21\n",
            "The factorial of 21 is 51090942171709440000\n"
          ]
        }
      ]
    }
  ]
}